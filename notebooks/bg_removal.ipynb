{
 "cells": [
  {
   "cell_type": "markdown",
   "metadata": {},
   "source": [
    "# Final Project for AI 221\n",
    "\n",
    "AI 221 | 1st Sem AY 2024-2025  \n",
    "Students: Jemima Bian Anila, Joshua Cantor, Michael Spencer Quinto, MEng in AI  \n",
    "Instructors: Dr. Miguel Remolona | Dr. Jon Dewitt Dalisay\n",
    "\n",
    "## Dataset\n",
    "\n",
    "https://data.mendeley.com/datasets/tsvdyhbphs/1\n",
    "\n",
    "https://www.kaggle.com/datasets/jaydepaolomirandilla/philippine-medicinal-plant-leaf-dataset/data\n"
   ]
  },
  {
   "cell_type": "code",
   "execution_count": 1,
   "metadata": {},
   "outputs": [
    {
     "name": "stderr",
     "output_type": "stream",
     "text": [
      "/tmp/ipykernel_3153349/1189830066.py:6: DeprecationWarning: \n",
      "Pyarrow will become a required dependency of pandas in the next major release of pandas (pandas 3.0),\n",
      "(to allow more performant data types, such as the Arrow string type, and better interoperability with other libraries)\n",
      "but was not found to be installed on your system.\n",
      "If this would cause problems for you,\n",
      "please provide us feedback at https://github.com/pandas-dev/pandas/issues/54466\n",
      "        \n",
      "  import pandas as pd\n"
     ]
    }
   ],
   "source": [
    "import sys\n",
    "from pathlib import Path\n",
    "  \n",
    "import numpy as np\n",
    "import matplotlib.pyplot as plt\n",
    "import pandas as pd\n",
    "import seaborn as sns\n",
    "import warnings\n",
    "import torch  \n",
    "import cv2\n",
    "import random\n",
    "\n",
    "\n",
    "\n",
    "%load_ext autoreload\n",
    "%autoreload 2\n",
    "\n",
    "pd.set_option('display.max_columns', None)\n",
    "pd.set_option('display.expand_frame_repr', False)\n",
    "warnings.filterwarnings('ignore')\n",
    "np.set_printoptions(suppress=True, precision=3)"
   ]
  },
  {
   "cell_type": "code",
   "execution_count": 2,
   "metadata": {},
   "outputs": [],
   "source": [
    "# Add project root directory to Python path to allow importing from src folder\n",
    "notebook_dir = Path(\"__file__\").resolve().parent\n",
    "project_root = Path.cwd().parent\n",
    "sys.path.append(str(project_root))"
   ]
  },
  {
   "cell_type": "code",
   "execution_count": 3,
   "metadata": {},
   "outputs": [
    {
     "name": "stdout",
     "output_type": "stream",
     "text": [
      "True\n"
     ]
    }
   ],
   "source": [
    "print(torch.cuda.is_available())"
   ]
  },
  {
   "cell_type": "markdown",
   "metadata": {},
   "source": [
    "# Import utility modules from `src` folder\n",
    "\n",
    "Note: all reusable code like transformations for the dataframes, etc. can be found inside the `src` folder and are imported here for better modularity and version control\n"
   ]
  },
  {
   "cell_type": "code",
   "execution_count": 10,
   "metadata": {},
   "outputs": [],
   "source": [
    "from src.utils_nn import SampleNN, test_function\n",
    "from src.utils_data import (\n",
    "    DATA_FOLDER,\n",
    "    PROCESSED_DATA_FOLDER,\n",
    "    HIBISCUS_PROCESSED_FOLDER,\n",
    "    CARMONA_RETUSA_PROCESSED_FOLDER,\n",
    "    AVERRHOEA_BILIMBI_PROCESSED_FOLDER,\n",
    ")"
   ]
  },
  {
   "cell_type": "code",
   "execution_count": 5,
   "metadata": {},
   "outputs": [
    {
     "name": "stdout",
     "output_type": "stream",
     "text": [
      "data/ph_med_plants_reduced_sizes\n",
      "data/ph_med_plants_reduced_sizes/1Hibiscus rosa-sinensis(HRS)\n"
     ]
    }
   ],
   "source": [
    "print(PROCESSED_DATA_FOLDER.relative_to(project_root))\n",
    "print(HIBISCUS_PROCESSED_FOLDER.relative_to(project_root))"
   ]
  },
  {
   "cell_type": "code",
   "execution_count": 6,
   "metadata": {},
   "outputs": [],
   "source": [
    "from src.utils_preprocessing import create_bg_rem_mask, remove_background"
   ]
  },
  {
   "cell_type": "code",
   "execution_count": 20,
   "metadata": {},
   "outputs": [
    {
     "name": "stderr",
     "output_type": "stream",
     "text": [
      "Processing classes: 100%|██████████| 40/40 [1:10:05<00:00, 105.13s/it]"
     ]
    },
    {
     "name": "stdout",
     "output_type": "stream",
     "text": [
      "Background removal completed for all classes!\n"
     ]
    },
    {
     "name": "stderr",
     "output_type": "stream",
     "text": [
      "\n"
     ]
    }
   ],
   "source": [
    "from tqdm import tqdm\n",
    "\n",
    "BG_REMOVED_DATA_FOLDER = DATA_FOLDER / \"bg_removed\"\n",
    "\n",
    "# Create the base directory if it doesn't exist\n",
    "BG_REMOVED_DATA_FOLDER.mkdir(exist_ok=True)\n",
    "\n",
    "# iter = 0\n",
    "\n",
    "# Loop through all class folders\n",
    "for class_folder in tqdm(\n",
    "    list(PROCESSED_DATA_FOLDER.iterdir()), desc=\"Processing classes\"\n",
    "):\n",
    "    if not class_folder.is_dir():\n",
    "        continue\n",
    "\n",
    "    # if iter > 1:\n",
    "    #     break\n",
    "\n",
    "    # Create corresponding folder in bg_removed directory\n",
    "    bg_removed_class_folder = BG_REMOVED_DATA_FOLDER / class_folder.name\n",
    "    bg_removed_class_folder.mkdir(exist_ok=True)\n",
    "\n",
    "    # Process each image in the class folder\n",
    "\n",
    "    # itter2 = 0\n",
    "\n",
    "    for img_path in tqdm(\n",
    "        list(class_folder.glob(\"*.webp\")),\n",
    "        desc=f\"Processing {class_folder.name}\",\n",
    "        leave=False,\n",
    "    ):\n",
    "        # if itter2 > 1:\n",
    "        #     break\n",
    "\n",
    "        # Read image\n",
    "        img = plt.imread(str(img_path))\n",
    "        if img is None:\n",
    "            print(f\"Failed to read {img_path}\")\n",
    "            continue\n",
    "\n",
    "        # Remove background\n",
    "        mask = create_bg_rem_mask(img)\n",
    "        bg_removed = remove_background(img, mask)\n",
    "\n",
    "        # # Plot the background removed image using matplotlib\n",
    "        # plt.figure(figsize=(10, 10))\n",
    "        # plt.imshow(bg_removed)\n",
    "        # plt.axis(\"off\")\n",
    "        # plt.title(f\"Background Removed: {img_path.name}\")\n",
    "        # plt.show()\n",
    "\n",
    "        # # Convert to BGR for saving\n",
    "        # bg_removed = cv2.cvtColor(bg_removed, cv2.COLOR_RGB2BGR)\n",
    "\n",
    "        # Save with same filename in bg_removed folder\n",
    "        output_path = bg_removed_class_folder / img_path.name\n",
    "        cv2.imwrite(str(output_path), bg_removed)\n",
    "\n",
    "        # itter2 += 1\n",
    "\n",
    "    # iter += 1\n",
    "\n",
    "print(\"Background removal completed for all classes!\")"
   ]
  }
 ],
 "metadata": {
  "kernelspec": {
   "display_name": "upd_ai_201",
   "language": "python",
   "name": "python3"
  },
  "language_info": {
   "codemirror_mode": {
    "name": "ipython",
    "version": 3
   },
   "file_extension": ".py",
   "mimetype": "text/x-python",
   "name": "python",
   "nbconvert_exporter": "python",
   "pygments_lexer": "ipython3",
   "version": "3.12.0"
  }
 },
 "nbformat": 4,
 "nbformat_minor": 2
}
